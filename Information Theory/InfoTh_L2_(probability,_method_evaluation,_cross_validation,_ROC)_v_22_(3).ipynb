{
  "cells": [
    {
      "cell_type": "markdown",
      "id": "016d2c3c",
      "metadata": {
        "id": "016d2c3c"
      },
      "source": [
        "<div style=\"width:100%;height:60px\">\n",
        "<div style=\"width:60%;height:50px;float:left;\"><h2> Information Theory  (UAI/500) </h2></div>\n",
        "<div style=\"width:40%;height:50px;float:left;\"><img src=\"img/JCU_DCS.png\" width=200px align=right/> </div>\n",
        "</div>\n",
        "<div style=\"width:100%;height:5px;background-color:#408d62\"></div>\n",
        "<h2>Lecture Notebook</h2>\n",
        "\n",
        "<h4>Lecturer: Ivo Bukovsky</h4>\n",
        "\n",
        "<div style=\"width:100%;height:5px;background-color:#408d62;margin-top:15px\"></div>\n"
      ]
    },
    {
      "cell_type": "markdown",
      "id": "873ff004",
      "metadata": {
        "id": "873ff004"
      },
      "source": [
        "<h2> Fundamentals for Information Theory (probability, conditional probability) </h2>\n",
        "<ul>\n",
        "<li>probability, independent and dependent events, joint probability conditional probability, Bayes rule, complete probability </li>    \n",
        "    <li>probability of independent and dependent events, joint probability</li>\n",
        "    <li>conditional probability, Bayes rule, complete probability </li>\n",
        "</ul>\n",
        "    \n",
        "<h2>Validation of Neural Networks (as Binary Classifiers or Detectors) </h2>\n",
        "<ul>\n",
        "<li>Confusion Matrix, Sensitivity (Recall), Specificity</li>\n",
        "<li>n-fold cross validation</li>\n",
        "<li>ROC characteristics</li>\n",
        "<ul>"
      ]
    },
    {
      "cell_type": "markdown",
      "id": "2867afd2",
      "metadata": {
        "id": "2867afd2"
      },
      "source": [
        "<div style=\"width:100%;height:5px;background-color:#408d62;margin-top:15px\"></div>\n",
        "\n",
        "### Some \"Refreshment\"\n",
        "\n",
        "- <b>discrete random variable:</b> probability mass function (pmf)\n",
        "- <b>continuous random variable:</b> probability density function (pdf)\n",
        "\n",
        "<h3>Mean Value, Variance, Standard Deviation, Modus, Median...</h3>\n",
        "\n",
        "<b>a) via probability, i.e., probability mass function (pmf), define:<br>\n",
        "   b) via probability density function define: <br>\n",
        "    <i>Mean Value, Variance, Standard Deviation, Modus, Median...</i>:\n",
        "</b>\n",
        "\n",
        "<h4>1) Mean:</h4>\n",
        "<br>a) for discrete random variable $x$ via pmf $p(x), \\ \\overline x=\\sum\\limits_{\\forall x} p(x)\\cdot x$; however, practically as <b>sample mean</b> $\\overline x=\\dfrac{1}{N}\\sum\\limits_{k=1}^{N} x_k$, where $k$ is sample index, and $N$ is the number of samples (data length).\n",
        "<br>b) for continous random variable $x$ via probability density function (pdf) $f(x), \\ \\overline x=\\int\\limits_{x=-\\infty}^{+\\infty} p(x)\\cdot x \\cdot dx $\n",
        "\n",
        "<h4>2) Variance:</h4>\n",
        "<br> a) via $p(x), \\ \\sigma_x^2=\\sum\\limits_{\\forall x} p(x)\\cdot (x-\\overline x)^2=\\sum\\limits_{\\forall x} p(x)\\cdot x^2-\\overline x^2$ ; however, practically as:<br>\n",
        "  $  \\sigma_x^2=\\dfrac{1}{N}\\sum\\limits_{k=1}^N \\big(x_k-\\overline x\\big)^2$ that estimates the variance, however, it is biased for low number of samples, i.e. $N$=low , so we can use <b> sample variance </b>as follows:\n",
        "  $  \\sigma_x^2=\\dfrac{1}{N-1}\\sum\\limits_{k=1}^N \\big(x_k-\\overline x\\big)^2$ that estimates the unbiased variance.\n",
        "<br> b) via $f(x), \\ \\sigma_x^2=\\int\\limits_{x=-\\infty}^{+\\infty} p(x)\\cdot (x-\\overline x)^2 dx=\\sigma_x^2=\\int\\limits_{x=-\\infty}^{+\\infty} p(x)\\cdot x^2 \\cdot dx-\\overline {x}^2$\n",
        "\n",
        "<h4>3) Standard Deviation:</h4> $\\sigma_x=\\sqrt{\\sigma_x^2}$\n",
        "\n",
        "<h4>4) Modus</h4>  (most frequent value) of $x$, i.e.\n",
        " - a) via pmf $p(x=x_{modus})\\overset{!}{=}max$\n",
        " <br>\n",
        "\n",
        " - b) via pdf  $\\dfrac{\\partial F(x=x_{modus})}{\\partial x}=max$, i.e., $f(x=x_{modus})\\overset{!}{=}max$\n",
        "\n",
        "<h4>5) Median</h4> (half of all data samples is bellow median, and the half is above, for even length of set, it is the mean of the two values in the middle of all smaples)\n",
        " <br> a) via pmf  $F(x_{median})=\\sum\\limits_{x=x_{min}}^{x_{median}} p(x)\\overset{!}{=}\\dfrac{1}{2}$\n",
        " <br> b) via pdf $F(x_{median})=\\int\\limits_{x=x_{min}}^{x_{median}} f(x)\\overset{!}{=}\\dfrac{1}{2}$\n",
        "\n",
        "<div style=\"width:100%;height:5px;background-color:#408d62;margin-top:15px\"></div>\n",
        "\n",
        "<h3> Modus and Median Example</h3>\n",
        "\n",
        "<b> Let's have discrete random variable $x$ that can be integer value from 0 to 12. The experiment generated its values as follows:</b>\n",
        "<br>\n",
        "    \n",
        "  data set = {6,6,2,10,1,1,1,0,0,2,4,3,3,3,11,3,3,3,2,4,4,4,0,1,3,1,1,2,10,2,2,7,7,8,8,9,9,1,0,2,11,2,2,5,5,5,1,12}\n",
        "  <br>\n",
        "  \n",
        "To do: <b>draw probability, i.e., probability mass function $p(x)$, distribution function $F(x)$, calculate mean, variance, modus and median. </b>\n",
        "\n",
        "(The code bellow is to show what happends, of course you can call some function for that directly)"
      ]
    },
    {
      "cell_type": "code",
      "execution_count": null,
      "id": "24a3b4b5",
      "metadata": {
        "colab": {
          "base_uri": "https://localhost:8080/",
          "height": 440
        },
        "id": "24a3b4b5",
        "outputId": "deb14663-133a-47d8-d012-5b60834abedd"
      },
      "outputs": [
        {
          "output_type": "display_data",
          "data": {
            "text/plain": [
              "<Figure size 1600x400 with 3 Axes>"
            ],
            "image/png": "[encoded data removed]"
          },
          "metadata": {}
        }
      ],
      "source": [
        "%matplotlib inline\n",
        "from numpy import *   # yeah, should be import numpy as np,.. I know\n",
        "from matplotlib.pyplot import *\n",
        "\n",
        "data_samples=array((6,6,2,10,1,1,1,0,0,2,4,3,3,3,11,3,3,3,2,4,4,4,0,1,3,1,1,2,10,2,2,7,7,8,8,9,9,1,0,2,11,2,2,5,5,5,1,12))\n",
        "\n",
        "figure(figsize=(16,4))\n",
        "subplot(1,3,1)\n",
        "title(\"histogram\");grid();xlabel('$x$');ylabel(\"frequencies\")\n",
        "\n",
        "bins=13\n",
        "fb=hist(data_samples,bins)  # histogram <=> frequencies and bins\n",
        "\n",
        "frequencies=fb[0]           # frequencies\n",
        "\n",
        "px=frequencies/sum(frequencies)  # px=p(x)...probability, i.e. probability mass function (pmf)), x ... a dicrete random variable\n",
        "\n",
        "x=[0,1,2,3,4,5,6,7,8,9,10,11,12]  # function values, bins for histogram can be here the same as the values of x\n",
        "Fx = [sum(px[:k+1]) for k in x]  # Distribution function (for discrete x it is the cumulative probability)\n",
        "\n",
        "subplot(132)\n",
        "plot(x,px,'ok',label=\"$Probability \\ (pmf) \\ p(x)$\");grid();legend();xlabel('$x$'),title(\"$Probability \\ mass \\ function \\ p(x) \\ ,  \\sum_{x=0}^{12} p(x)=$\"+str(round(sum(px),2)))\n",
        "subplot(133)\n",
        "plot(x,Fx,'ok',label=\"$F(x)$\");grid();legend();xlabel('$x$'),title(\"$Distribution \\ function \\ F(x)=\\sum_{\\chi=0}^x p(\\chi)$\")\n",
        "show()"
      ]
    },
    {
      "cell_type": "code",
      "execution_count": null,
      "id": "57a5624f",
      "metadata": {
        "colab": {
          "base_uri": "https://localhost:8080/"
        },
        "id": "57a5624f",
        "outputId": "12df4450-8b24-4de4-ed35-4a7351533e37"
      },
      "outputs": [
        {
          "output_type": "stream",
          "name": "stdout",
          "text": [
            "mean(x)= 4.0\n",
            "or\n",
            "meanx= 4.0\n"
          ]
        }
      ],
      "source": [
        "# Mean\n",
        "dataset=data_samples\n",
        "print(\"mean(x)=\", mean(dataset))\n",
        "print(\"or\")\n",
        "meanx=sum([px[k]*k for k in x])\n",
        "print(\"meanx=\", meanx)"
      ]
    },
    {
      "cell_type": "code",
      "execution_count": null,
      "id": "2601671d",
      "metadata": {
        "colab": {
          "base_uri": "https://localhost:8080/"
        },
        "id": "2601671d",
        "outputId": "dc03e3bc-3cf8-4950-b840-f27526252f5a"
      },
      "outputs": [
        {
          "output_type": "stream",
          "name": "stdout",
          "text": [
            "var(x)= 10.916666666666666\n",
            "or\n",
            "var(x)= 10.916666666666666\n",
            "or\n",
            "biased variance of x= 10.916666666666666\n",
            "unbiased, i.e., sample variance of x= 11.148936170212766\n"
          ]
        }
      ],
      "source": [
        "# Sample Variance\n",
        "print(\"var(x)=\", var(dataset))\n",
        "print(\"or\")\n",
        "varx=sum([px[k]*(k-meanx)**2 for k in x])\n",
        "print(\"var(x)=\", varx)\n",
        "print(\"or\")\n",
        "N=len(dataset)\n",
        "samplevarx=1/(N)*sum([(k-meanx)**2 for k in dataset])\n",
        "print(\"biased variance of x=\", samplevarx)\n",
        "unbsamplevarx=1/(N-1)*sum([(k-meanx)**2 for k in dataset])\n",
        "print(\"unbiased, i.e., sample variance of x=\", unbsamplevarx)"
      ]
    },
    {
      "cell_type": "code",
      "execution_count": null,
      "id": "c7a209a9",
      "metadata": {
        "colab": {
          "base_uri": "https://localhost:8080/"
        },
        "id": "c7a209a9",
        "outputId": "c5d4b7d7-2ef9-4c20-d48b-0898753261aa"
      },
      "outputs": [
        {
          "output_type": "stream",
          "name": "stdout",
          "text": [
            "x_modus= [2]\n",
            "From the F(x) plot above we can see that\n",
            "F(x=2)= [0.4375]\n",
            "F(x=3)= [0.58333333]\n",
            "So the median follows as the weighted average:\n",
            "[2.4375]\n"
          ]
        }
      ],
      "source": [
        "# Modus\n",
        "x=array(x)\n",
        "x_modus=x[px==max(px)]\n",
        "print(\"x_modus=\",x_modus)\n",
        "\n",
        "#Median\n",
        "print(\"From the F(x) plot above we can see that\")\n",
        "Fx=array(Fx)\n",
        "print(\"F(x=2)=\",Fx[x==2])\n",
        "print(\"F(x=3)=\",Fx[x==3])\n",
        "print(\"So the median follows as the weighted average:\")\n",
        "x_median=(2*px[x==2]+3*px[x==3])/(px[x==2]+px[x==3])\n",
        "print(x_median)"
      ]
    },
    {
      "cell_type": "markdown",
      "id": "3e349924",
      "metadata": {
        "id": "3e349924"
      },
      "source": [
        "<div style=\"widht:100%;height:5px;background-color:#408d62\"></div>\n",
        "\n",
        "##  Probability\n",
        "\n",
        "$$ P(A,B) \\text{ vs. } P(A|B),P(B|A) $$\n",
        "\n",
        "\n",
        "<b>Tossings Two Coins </b><br>\n",
        "\n",
        "$A$...coin A turns head , $\\overline{A}$ ... coin A turns tail (complement to event $A$)<br>\n",
        "$B$ ... coin B turns head, $\\overline{B}$ ... coin B turns tail (complement to event $B$)<br>\n",
        "\n",
        "<ol>\n",
        "    <li> What is probability that when tossing both (fair) coins, we obtain:<br>\n",
        "        - two heads?<br>\n",
        "        - two tails?<br>\n",
        "        - coin A turns head and coin B turns tale?<br>\n",
        "        - head and tale( regardless which coin)?<br>\n",
        "        (two tails, ? </li>\n",
        "    <li> When coin B shows head, what is notation for probability that coin A shows tail? </li>\n",
        "    <li> When coin A shows tail, what is notation for probability that coin B shows head? </li>\n",
        "    <li> When coin A shows , tail, what is notation for probability that coin B shows tail? </li>\n",
        "    <li> Why conditional probability does not make much sense in this problem?\n",
        "</ol>\n",
        "<br>    \n",
        "\n",
        "<b> Throwing Two Dices</b><br>\n",
        "$A$...dice A shows \"6\" , $\\overline{A}$ ... dice A does not show \"6\" but \"1\" or \"2\" or \"3\" or \"4\" or \"5\" (complement to event $A$)<br>\n",
        "$B$...dice B shows \"6\", $\\overline{B}$ ...  dice B does not show \"6\" but \"1\" or \"2\" or \"3\" or \"4\" or \"5\"  (complement to event $B$)<br>\n",
        "\n",
        "<ol>\n",
        "    <li> What is probability that when throwing both (fair) dices, we obtain:<br>\n",
        "        - two \"6\"?<br>\n",
        "        - no \"6\"?<br>\n",
        "        - dice A shows \"6\" and coin B does not show \"6\"?<br>\n",
        "        - \"6\" only once (regardless which coin)?</li>\n",
        "    <li> When dice B showed \"6\", what is notation for probability that dice A shows \"6\"? </li>\n",
        "    <li> When dice A showed \"6\", what is notation for probability that dice B shows \"6\"? </li>\n",
        "    <li> When dice A does not show \"6\", what is notation for probability that dice B shows tail? </li>\n",
        "    <li> Why conditional probability does not make much sense in this problem?\n",
        "</ol>\n",
        "<br>\n",
        "\n"
      ]
    },
    {
      "cell_type": "markdown",
      "id": "796617bc",
      "metadata": {
        "id": "796617bc"
      },
      "source": [
        "<div style=\"width:100%;height:5px;background-color:#408d62;margin-top:15px\"></div>\n",
        "\n",
        "<h2> The Bayes Rule (and Complete Probability)</h2>\n",
        "\n",
        "<h4>A Single Flying Drone (example)</h4>\n",
        "\n",
        "<ol>   \n",
        "    <li> A randomly flying drone is lost:\n",
        "        <br> $A$ ... the drone crashed into zone A, $\\overline{A}$ ...the drone did not crash into zone A\n",
        "        <br> $B$ ... the drone crashed into zone B, $\\overline{B}$ ...the drone did not crash into zone B\n",
        "        <br> ($C$ ... the drone crashed into Zone $C$, $\\overline{C}$ ... )<br>\n",
        "  a) there are sharp borders between zones (zones do not overlap) <br>\n",
        "        <b>b)</b> the zones overlap <b>(Conditional Probability and Bayes Rule)</b></li><br>\n",
        " </ol>\n",
        "    \n",
        "<b> Connotate the situations to the following sketches and to probabilities as $P(A\\cap B), P(A\\cap B \\cap C),P(A\\cup B),P(A\\cup B \\cup C, P(A|B), P(B|A)$ </b>\n",
        "    \n",
        "notice notation: $P(A\\cap B) = P(A,B)=P(AB)$.\n",
        "\n",
        "![image-2.png](attachment:image-2.png)\n",
        "![image-3.png](attachment:image-3.png)\n",
        "![image-4.png](attachment:image-4.png)\n"
      ]
    },
    {
      "cell_type": "markdown",
      "id": "9598843a",
      "metadata": {
        "id": "9598843a"
      },
      "source": [
        "### Example L-4\n",
        "\n",
        "\n",
        " A SW  company received 1 000 calls from customers who use operating system (OS) A and 2 000 calls from customers who run OS B (per year).\n",
        "      <br>It was observed that only 100 OS A customers and 120 OS B customers had trully serious problem.\n",
        "        <br>Asuming that the problems of customers are independent events, what is the probability that the next calling customer:\n",
        "        <ol>\n",
        "        <li> has a serious problem? </li>\n",
        "        <li> runs OS A?</li>\n",
        "        <li> runs OS B?</li>\n",
        "        <li> runs OS A and has a serious problem? <b style=\"color:blue;\">[0.02 Points]</b> </li>\n",
        "        <li> runs OS B and has a serious problem? <b style=\"color:blue;\">[0.02 Points]</b> </li>\n",
        "        <li> has a serious problem, while we allready know the customer runs OS A? <b style=\"color:blue;\">[0.1 Points]</b></li>\n",
        "        <li> has a serious problem, while we allready know the customer runs OS B? <b style=\"color:blue;\">[0.1 Points]</b></li>\n",
        "        <li> runs OS A, while we allready know the customer has a serious problem?<b style=\"color:blue;\">[0.1 Points]</b> </li>\n",
        "        <li> runs OS B, while we allready know the customer has a serious problem? <b style=\"color:blue;\">[0.1 Points]</b></li>\n",
        "        <li> does not have a serious problem, while we allready know the customer runs OS A? <b style=\"color:blue;\">[0.1 Points]</b></li>\n",
        "        <li> does not have a problem, while we allready know the customer runs OS B? <b style=\"color:blue;\">[0.1 Points]</b></li>\n",
        "        <li> runs OS A, while we allready know the customer does not have a serious problem?<b style=\"color:blue;\">[0.1 Points]</b> </li>\n",
        "        <li> runs OS B, while we allready know the customer does not have a serious problem?<b style=\"color:blue;\">[0.1 Points]</b></li>\n",
        "        </ol>\n",
        "\n",
        "  "
      ]
    },
    {
      "cell_type": "code",
      "execution_count": null,
      "id": "184f895b",
      "metadata": {
        "colab": {
          "base_uri": "https://localhost:8080/"
        },
        "id": "184f895b",
        "outputId": "9d567f6c-5a6e-43af-a7bf-50a4087185a1"
      },
      "outputs": [
        {
          "output_type": "stream",
          "name": "stdout",
          "text": [
            "P(serious problem) = 0.07333333333333333\n",
            "P(OS A) = 0.3333333333333333\n",
            "P(OS B) = 0.6666666666666666\n",
            "P(OS A and serious) = 0.03333333333333333\n",
            "P(OS B and serious) = 0.04\n",
            "P(serious | OS A) = 0.1\n",
            "P(serious | OS B) = 0.06\n",
            "P(OS A | serious) = 0.45454545454545453\n",
            "P(OS B | serious) = 0.5454545454545454\n",
            "P(not serious | OS A) = 0.9\n",
            "P(not serious | OS B) = 0.94\n",
            "P(OS A | not serious) = 0.3237410071942446\n",
            "P(OS B | not serious) = 0.6762589928057554\n"
          ]
        }
      ],
      "source": [
        "# Given data\n",
        "total_A = 1000\n",
        "total_B = 2000\n",
        "serious_A = 100\n",
        "serious_B = 120\n",
        "\n",
        "total_customers = total_A + total_B\n",
        "total_serious_prob = serious_A + serious_B\n",
        "total_not_serious = total_customers - total_serious_prob\n",
        "\n",
        "# what is the probability that the next calling customer:\n",
        "# 1) has a serious problem?\n",
        "P_serious_problem = total_serious_prob / total_customers\n",
        "print(\"P(serious problem) =\", P_serious_problem)\n",
        "\n",
        "# 2) runs OS A?\n",
        "P_A = total_A / total_customers\n",
        "print(\"P(OS A) =\", P_A)\n",
        "\n",
        "# 3) runs OS B?\n",
        "P_B = total_B / total_customers\n",
        "print(\"P(OS B) =\", P_B)\n",
        "\n",
        "# 4) runs OS A and has a serious problem?\n",
        "P_A_and_serious = serious_A / total_customers\n",
        "print(\"P(OS A and serious) =\", P_A_and_serious)\n",
        "\n",
        "# 5) runs OS B and has a serious problem?\n",
        "P_B_and_serious = serious_B / total_customers\n",
        "print(\"P(OS B and serious) =\", P_B_and_serious)\n",
        "\n",
        "# 6) has a serious problem, while we allready know the customer runs OS A?\n",
        "P_serious_given_A = serious_A / total_A\n",
        "print(\"P(serious | OS A) =\", P_serious_given_A)\n",
        "\n",
        "# 7) has a serious problem, while we allready know the customer runs OS B?\n",
        "P_serious_given_B = serious_B / total_B\n",
        "print(\"P(serious | OS B) =\", P_serious_given_B)\n",
        "\n",
        "# 8) runs OS A, while we allready know the customer has a serious problem?\n",
        "P_A_given_serious = serious_A / total_serious_prob\n",
        "print(\"P(OS A | serious) =\", P_A_given_serious)\n",
        "\n",
        "# 9) runs OS B, while we allready know the customer has a serious problem?\n",
        "P_B_given_serious = serious_B / total_serious_prob\n",
        "print(\"P(OS B | serious) =\", P_B_given_serious)\n",
        "\n",
        "# 10) does not have a serious problem, while we allready know the customer runs OS A?\n",
        "P_not_serious_given_A = (total_A - serious_A) / total_A\n",
        "print(\"P(not serious | OS A) =\", P_not_serious_given_A)\n",
        "\n",
        "# 11) does not have a problem, while we allready know the customer runs OS B?\n",
        "P_not_serious_given_B = (total_B - serious_B) / total_B\n",
        "print(\"P(not serious | OS B) =\", P_not_serious_given_B)\n",
        "\n",
        "# 12) runs OS A, while we allready know the customer does not have a serious problem?\n",
        "P_A_given_not_serious = (total_A - serious_A) / total_not_serious\n",
        "print(\"P(OS A | not serious) =\", P_A_given_not_serious)\n",
        "\n",
        "# 13) runs OS B, while we allready know the customer does not have a serious problem?\n",
        "P_B_given_not_serious = (total_B - serious_B) / total_not_serious\n",
        "print(\"P(OS B | not serious) =\", P_B_given_not_serious)"
      ]
    },
    {
      "cell_type": "markdown",
      "id": "feb7cb43",
      "metadata": {
        "id": "feb7cb43"
      },
      "source": [
        "<div style=\"widht:100%;height:2px;background-color:#408d62\"></div>\n",
        "\n",
        "\n",
        "###  Example L-5\n",
        "\n",
        "Let's have two sources $A$ and $B$, that send their messages towards receiver $R$ via separate very noisy communication channels $Ch_A$ and $Ch_B$ .\n",
        "\n",
        "Source $A$ sends 10 000 messages, and source $B$ sends 20 000 messages.\n",
        "<div style=\"width:100%;height:230px;padding-top:30px;padding-bottom:30px;\"><img src=\"img/noisy_channels_example_L1.png\" style=\"height:170px;align:center;\"> </div>\n",
        "<div style=\"width:100%;height:20px;text-align:center;padding-bottom:10px;\"> Fig.2: Noisy communication channel example.  </div>\n",
        "</div>\n",
        "\n",
        "We know from the past, that channel $Ch_A$ disrupts 5% of all messages from source $A$ and channel $Ch_B$ disrupts 1% of all messages from $B$.\n",
        "\n",
        "#### Questions:\n",
        "\n",
        "Assumption: The disruptions of messages are independent (also in time), i.e., the probability that the next message is disrupted is the same as that one of the previous messages.<br>\n",
        "\n",
        "<ol>\n",
        "   <li> The receiver $R$ receives a message, what is probability that:\n",
        "            <br> - the message is from $A$?\n",
        "            <br> - the message is from $B$?\n",
        "            <br> - the message is ok?<b style=\"color:blue;\">[0.1 Points]</b>\n",
        "            <br> - the message is disrupted?  <b style=\"color:blue;\">[0.1 Points]</b>  \n",
        "    </li>\n",
        "    <li>Generally, what is probability that:\n",
        "            <br> - a message from $A$ is disrupted?<b style=\"color:blue;\">[0.1 Points]</b>\n",
        "            <br> - a message from $A$ is ok?<b style=\"color:blue;\">[0.1 Points]</b>\n",
        "            <br> - a message from $B$ is disrupted?<b style=\"color:blue;\">[0.1 Points]</b>\n",
        "            <br> - a message from $B$ is ok?<b style=\"color:blue;\">[0.1 Points]</b>\n",
        "            <br> - a disrupted message is from $A$?<b style=\"color:blue;\">[0.1 Points]</b>\n",
        "            <br> - an ok message is from $A$?<b style=\"color:blue;\">[0.1 Points]</b>\n",
        "            <br> - a disrupted message is from $B$?<b style=\"color:blue;\">[0.1 Points]</b>\n",
        "            <br> - an ok message is from $B$? <b style=\"color:blue;\">[0.1 Points]</b>\n",
        "    </li>\n",
        "    <li>  - The receiver $R$ receives 100 new messages, how many messages is most probably disrupted?<b style=\"color:blue;\">[0.2 Points]<br></b>\n",
        "        - What is the probability that 0 or 1 or 2 or 3... or 100 messages are disrupted?<b style=\"color:blue;\">[0.3 Points]<br></b>\n",
        "        - What is the probability that  0 or max 1 or max 2 or max 3... or max 100 messages are disrupted?<b style=\"color:blue;\">[0.4 Points]</b><br>\n",
        "    </li>\n",
        "</ol>\n",
        "\n",
        "<br>"
      ]
    },
    {
      "cell_type": "code",
      "execution_count": 23,
      "id": "42e0a6ea",
      "metadata": {
        "colab": {
          "base_uri": "https://localhost:8080/"
        },
        "id": "42e0a6ea",
        "outputId": "e09ed1c1-d380-4deb-e88c-a1eccca1e8b2"
      },
      "outputs": [
        {
          "output_type": "stream",
          "name": "stdout",
          "text": [
            "P(A) = 0.3333333333333333\n",
            "P(B) = 0.6666666666666666\n",
            "P(OK) = 0.9766666666666666\n",
            "P(disrupted) = 0.023333333333333428\n",
            "P(disrupted | A) = 0.05\n",
            "P(OK | A) = 0.95\n",
            "P(disrupted | B) = 0.01\n",
            "P(OK | B) = 0.99\n",
            "P(A | disrupted) = 0.7142857142857143\n",
            "P(A | OK) = 0.3242320819112628\n",
            "P(B | disrupted) = 0.2857142857142857\n",
            "P(B | OK) = 0.6757679180887372\n",
            "Probability of disrupted messages = 2.0\n",
            "Probability of exactly k disrupted messages (first 10 values): [0.09433 0.22535 0.2665  0.20799 0.1205  0.05527 0.02091 0.00671 0.00186\n",
            " 0.00045]\n",
            "Cumulative probability (first 10 values): [0.09433 0.31968 0.58619 0.79417 0.91467 0.96994 0.99085 0.99756 0.99942\n",
            " 0.99988]\n"
          ]
        }
      ],
      "source": [
        "import numpy as np\n",
        "from scipy.stats import binom\n",
        "\n",
        "messages_A = 10000\n",
        "messages_B = 20000\n",
        "disruption_A = 0.05  # 5% disruption for messages from A\n",
        "disruption_B = 0.01  # 1% disruption for messages from B\n",
        "\n",
        "total_messages = messages_A + messages_B\n",
        "\n",
        "# 1) The receiver receives a message, what is probability that\n",
        "# a) the message is from A\n",
        "P_A = messages_A / total_messages\n",
        "print(\"P(A) =\", P_A)\n",
        "# b) the message is from B\n",
        "P_B = messages_B / total_messages\n",
        "print(\"P(B) =\", P_B)\n",
        "# c) the message is ok?\n",
        "P_OK_A = 1 - disruption_A  # Probability that a message from A is OK\n",
        "P_OK_B = 1 - disruption_B  # Probability that a message from B is OK\n",
        "\n",
        "# Using the law of total probability to calculate P(OK)\n",
        "P_OK = P_OK_A * P_A + P_OK_B * P_B\n",
        "print(\"P(OK) =\", P_OK)\n",
        "\n",
        "# d) the message is disrupted?\n",
        "P_disrupted = 1 - P_OK\n",
        "print(\"P(disrupted) =\", P_disrupted)\n",
        "\n",
        "\n",
        "# 2) Generally, what is probability that:\n",
        "# a) a message from A is disrupted?\n",
        "P_disrupted_given_A = disruption_A\n",
        "print(\"P(disrupted | A) =\", P_disrupted_given_A)\n",
        "\n",
        "#b) a message from A is ok?\n",
        "P_okay_A = 1 - P_disrupted_given_A\n",
        "print(\"P(OK | A) =\", P_okay_A)\n",
        "\n",
        "# c) a message from B is disrupted?\n",
        "P_disrupted_given_B = disruption_B\n",
        "print(\"P(disrupted | B) =\", P_disrupted_given_B)\n",
        "\n",
        "#d) a message from B is ok?\n",
        "P_okay_B = 1 - P_disrupted_given_B\n",
        "print(\"P(OK | B) =\", P_okay_B)\n",
        "\n",
        "# e) a disrupted message is from A?\n",
        "# Total probability that a message is disrupted\n",
        "P_disrupted = (P_disrupted_given_A * P_A) + (P_disrupted_given_B * P_B)\n",
        "P_A_given_disrupted = (P_disrupted_given_A * P_A) / P_disrupted\n",
        "print(\"P(A | disrupted) =\", P_A_given_disrupted)\n",
        "\n",
        "# f) an ok message is from A?\n",
        "# Total probability that a message is OK\n",
        "P_OK = 1 - P_disrupted\n",
        "P_A_given_OK = (P_okay_A * P_A) / P_OK\n",
        "print(\"P(A | OK) =\", P_A_given_OK)\n",
        "\n",
        "# g) a disrupted message is from B?\n",
        "P_B_given_disrupted = (P_disrupted_given_B * P_B) / P_disrupted\n",
        "print(\"P(B | disrupted) =\", P_B_given_disrupted)\n",
        "\n",
        "# h) an ok message is from B?\n",
        "P_B_given_OK = (P_okay_B * P_B)/P_OK\n",
        "print(\"P(B | OK) =\", P_B_given_OK)\n",
        "\n",
        "\n",
        "# 3) a)The receiver  R  receives 100 new messages, how many messages is most probably disrupted?\n",
        "P_disrupted_100 = P_disrupted * 100\n",
        "print(\"Probability of disrupted messages =\", np.floor(P_disrupted_100))\n",
        "\n",
        "# b) What is the probability that 0 or 1 or 2 or 3... or 100 messages are disrupted?\n",
        "# The probability of exactly k disrupted messages is given by binomial distribution\n",
        "p_k = []\n",
        "for k in range(101):\n",
        "  prob = binom.pmf(k,100,P_disrupted)\n",
        "  p_k.append(prob)\n",
        "print(\"Probability of exactly k disrupted messages (first 10 values):\", np.round(p_k[:10],5))\n",
        "\n",
        "# c) What is the probability that 0 or max 1 or max 2 or max 3... or max 100 messages are disrupted?\n",
        "# We need to calculate the cumulative probability that 0, 1, 2, ..., or 100 messages are disrupted.\n",
        "# The cumulative probability is the sum of binomial probabilities up to a certain number 𝑘\n",
        "\n",
        "cumulative_prob = []\n",
        "for k in range(101):\n",
        "  prob = binom.cdf(k,100,P_disrupted)\n",
        "  cumulative_prob.append(prob)\n",
        "print(\"Cumulative probability (first 10 values):\", np.round(cumulative_prob[:10],5))"
      ]
    },
    {
      "cell_type": "markdown",
      "id": "c60bb785",
      "metadata": {
        "id": "c60bb785"
      },
      "source": [
        "<div style=\"width:100%;height:5px;background-color:#408d62;margin-top:15px\"></div>\n",
        "\n",
        "<h2>Validation of Neural Networks (as Binary Classifiers or Detectors) </h2>\n",
        "<ul>\n",
        "<li>Confusion Matrix, Sensitivity (Recall), Specificity</li>\n",
        "<li>n-fold cross validation (briefly) </li>\n",
        "<li>ROC curves (briefly)</li>\n",
        "<ul>"
      ]
    },
    {
      "cell_type": "markdown",
      "id": "94fed1ee",
      "metadata": {
        "id": "94fed1ee"
      },
      "source": [
        "<div style=\"width:100%;height:3px;background-color:#408d62;margin-top:15px\"></div>\n",
        "\n",
        "<h4>A Neural Network as a Binary Detector (example)</h4>\n",
        "\n",
        "A neural network is trained to detect if a car is in the image or not. There is 10 000 images, 4 000 images contain a car, 6 000 images show no car. The method failed to find cars in 200 images with a car, and also it incorrectly detected cars in 100 images without any car.\n",
        "\n",
        " Let's denote notation for discrete, here also binary, events as follows:  \n",
        "        <br> REALITY: $A$ ... a car is really in the image, $\\overline{A}$ ...the image is without a car\n",
        "        <br >METHOD: $B$ ... the neural network is correct, $\\overline{B}$ ...the neural network is wrong\n",
        "\n",
        " <ol>   \n",
        "    <li> The graphical notion of probabilities and Bayes Rule connotations</li>\n",
        "    <li> The Confusion Matrix </li>\n",
        "    <li> Sensitivity(Recall) and Specificity of the detector</li>\n",
        " </ol>"
      ]
    },
    {
      "cell_type": "markdown",
      "id": "1450c0a0",
      "metadata": {
        "id": "1450c0a0"
      },
      "source": [
        "![image-2.png](attachment:image-2.png)\n",
        "<div style=\"center\">Figure 1: This Confusion Matrix is adopted from [e] as it is clear and nice summary(occasionaly, for the exam, you do not have to remember the names and formulas of all parameters (focus mainly on TP, FN, TN,FP, FPR, TNR, TPR, FNR) , to understand what is it for matters!, see also [a] [b] to be \"correct\"</div>\n"
      ]
    },
    {
      "cell_type": "markdown",
      "id": "188a6488",
      "metadata": {
        "id": "188a6488"
      },
      "source": [
        "<h4>A Neural Network as a Binary Detector (extension with the detection bias)</h4>\n",
        "\n",
        "In practice, the classification or detection methods depends on some customable bias.\n",
        "\n",
        "E.g.: <br>\n",
        "\n",
        " - if the bias value is exceeded, the result of the detection method is Positive,\n",
        " - if the bias value is not exceeded, the result of the detection method is Negative.\n",
        "\n",
        "<h3>\n",
        "Let's denote $\\beta\\in \\langle \\beta_{min}, \\beta_{max} \\rangle$ denote a detection bias. Then a point in 2-D that is drawn as  $[x,y]=\\left[FPR(\\beta), TPR(\\beta)\\right]$ represents a single point of the <b>Receiver Operating Characterstics (ROC)</b> [e].<br>\n",
        "    \n",
        " Thus, ROC is drawn as the $[x,y] \\ \\forall \\beta$.\n",
        "</h3>\n",
        "\n",
        "See, e.g., [e] , for an image diagnosis example you may see eg. [h])\n"
      ]
    },
    {
      "cell_type": "markdown",
      "id": "dfdde9b5",
      "metadata": {
        "id": "dfdde9b5"
      },
      "source": [
        "\n",
        "![image-4.png](attachment:image-4.png)\n",
        "<div style=\"center\">Figure 2: The principle of the Receiver Operating Characteristic curves (source  [e] has it done quite nicely, see Fig. 1 for meaning of axes). </div>"
      ]
    },
    {
      "cell_type": "markdown",
      "id": "c89971d9",
      "metadata": {
        "id": "c89971d9"
      },
      "source": [
        "<div style=\"widht:100%;height:2px;background-color:#408d62\"></div>\n",
        "\n",
        "\n",
        "### Example L-6\n",
        "\n",
        "Receiver $R$ receives many messages. The receiver applies a detection method to recognize whether the received messages are OK or disrupted (NOK).\n",
        "\n",
        "However, the detection method is imperfect. The performance of the detection method was validated on 1 000 messages for a particular bias setup, where we allready know that 300 messages were received with disruption.\n",
        "\n",
        "It was found that the detection method:\n",
        "- detected correctly only 200 disrupted messages,\n",
        "- made mistake with 50 correctly received messages, i.e., the method detected 50 OK messages as NOK (Not OK) messages.    \n",
        "\n",
        "<ol>\n",
        "    <li> Sketch confusion matrix of the detection method <b style=\"color:blue;\">[0.2 Points]</b><br></li>\n",
        "    <li> What is the $\\textbf{sensitivity}$ of the detection method?<b style=\"color:blue;\">[0.4 Points]</b><br></li>\n",
        "    <li> What is the $\\textbf{specificity}$ of the detection method?<b style=\"color:blue;\">[0.4 Points]</b><br></li>\n",
        "    <li> Draw the point of <b>ROC</b> for the given parameters (as for the single setup of detection bias) <b style=\"color:blue;\">[0.4 Points]<br> </li>\n",
        "</ol>"
      ]
    },
    {
      "cell_type": "code",
      "source": [
        "import matplotlib.pyplot as plt\n",
        "import pandas as pd\n",
        "#1) Sketch confusion matrix of the detection method?\n",
        "total_messages = 1000\n",
        "disrupted_messages = 300\n",
        "ok_messages = total_messages - disrupted_messages  # OK messages\n",
        "\n",
        "true_positive = 200 # Correctly detected disrupted messages\n",
        "false_positive = 50 # OK messages detected as NOK\n",
        "\n",
        "false_negative = disrupted_messages - true_positive # NOK incorrectly detected as OK\n",
        "true_negative = ok_messages - false_positive  #OK messages correctly detected\n",
        "\n",
        "confusion_matrix = pd.DataFrame({\n",
        "    'Detected OK': [true_negative, false_positive],\n",
        "    'Detected NOK': [false_negative, true_positive]\n",
        "}, index=['Actual OK', 'Actual NOK'])\n",
        "\n",
        "print(\"Confusion Matrix:\")\n",
        "print(confusion_matrix)\n",
        "\n",
        "# 2) What is the sensitivity of the detection method?\n",
        "\n",
        "sensitivity = true_positive / (true_positive + false_negative)\n",
        "print(f\"\\nSensitivity of the detection method: {sensitivity:.4f}\")\n",
        "\n",
        "# 3) what is the specificity of the detection method?\n",
        "\n",
        "specificity = true_negative / (true_negative + false_positive)\n",
        "print(f\"\\nSpecificity of the detection method: {specificity:.4f}\")\n",
        "\n",
        "# 4) Draw the point of ROC for the given parameters?\n",
        "\n",
        "TPR = sensitivity  # True Positive Rate (Sensitivity)\n",
        "FPR = false_positive / (false_positive + true_negative)  # False Positive Rate\n",
        "\n",
        "plt.figure(figsize=(8,6))\n",
        "plt.plot([0,1],[0,1],'k--')\n",
        "plt.scatter(FPR,TPR,color='red', label='Detection Point (FPR, TPR)')\n",
        "plt.xlim(0,1)\n",
        "plt.ylim(0,1)\n",
        "plt.xlabel('False Positive Rate')\n",
        "plt.ylabel('True Positive Rate')\n",
        "plt.title('ROC Curve')\n",
        "plt.legend()\n",
        "plt.grid()\n",
        "plt.show()"
      ],
      "metadata": {
        "colab": {
          "base_uri": "https://localhost:8080/",
          "height": 709
        },
        "id": "IZ-ZwN_RWvGK",
        "outputId": "15ab5ebb-727e-411d-a44b-371474c0722b"
      },
      "id": "IZ-ZwN_RWvGK",
      "execution_count": null,
      "outputs": [
        {
          "output_type": "stream",
          "name": "stdout",
          "text": [
            "Confusion Matrix:\n",
            "            Detected OK  Detected NOK\n",
            "Actual OK           650           100\n",
            "Actual NOK           50           200\n",
            "\n",
            "Sensitivity of the detection method: 0.6667\n",
            "\n",
            "Specificity of the detection method: 0.9286\n"
          ]
        },
        {
          "output_type": "display_data",
          "data": {
            "text/plain": [
              "<Figure size 800x600 with 1 Axes>"
            ],
            "image/png": "[encoded data removed]"
          },
          "metadata": {}
        }
      ]
    },
    {
      "cell_type": "markdown",
      "id": "80b342c8",
      "metadata": {
        "id": "80b342c8"
      },
      "source": [
        "<div style=\"widht:100%;height:5px;background-color:#408d62\"></div>\n",
        "<h2>Points and Assigments (week 2):</h2>\n",
        "\n",
        "If you wish to submit your solutions to collect your optional points, solve the problems in this notebook directly and upload to Moodle within 2 weeks.\n",
        "\n",
        "In this notebook, you may collect maximum of 3 points (though the total sum of points available in this notebook is more, so you have a lot of chance for 3 ;)."
      ]
    },
    {
      "cell_type": "markdown",
      "id": "f084b05e",
      "metadata": {
        "id": "f084b05e"
      },
      "source": [
        "<div style=\"widht:100%;height:5px;background-color:#408d62\"></div>\n",
        "<h3> References </h3>\n",
        "<br>\n",
        "\n",
        "<div style=\"width:100%;\">\n",
        "<div style=\"width:5%;float:left;\">[a] </div>\n",
        "<div style=\"width:95%;float:left;align:justify;\">“Wikipedia:Academic use,” Wikipedia. Feb. 17, 2021. Accessed: Oct. 13, 2021. [Online]. Available: https://en.wikipedia.org/w/index.php?title=Wikipedia:Academic_use&oldid=1007392296\n",
        " </div></div>\n",
        "\n",
        "<div style=\"width:100%;\">\n",
        "<div style=\"width:5%;float:left;\">[b] </div>\n",
        "<div style=\"width:95%;float:left;align:justify;\">“Wikipedia:Text of Creative Commons Attribution-ShareAlike 3.0 Unported License,” Wikipedia. Sep. 23, 2021. Accessed: Oct. 13, 2021. [Online]. Available: https://en.wikipedia.org/w/index.php?title=Wikipedia:Text_of_Creative_Commons_Attribution-ShareAlike_3.0_Unported_License&oldid=1045983641\n",
        "\n",
        " </div></div>\n",
        "\n",
        "<div style=\"width:100%;\">\n",
        "<div style=\"width:5%;float:left;\">[c] </div>\n",
        "<div style=\"width:95%;float:left;align:justify;\">“Confusion matrix,” Wikipedia. Jul. 04, 2021. Accessed: Oct. 13, 2021. [Online]. Available: https://en.wikipedia.org/w/index.php?title=Confusion_matrix&oldid=1031861694\n",
        " </div></div>\n",
        "\n",
        "<div style=\"width:100%;\">\n",
        "<div style=\"width:5%;float:left;\">[d] </div>\n",
        "<div style=\"width:95%;float:left;align:justify;\">“Evaluation of binary classifiers,” Wikipedia. May 09, 2021. Accessed: Oct. 13, 2021. [Online]. Available: https://en.wikipedia.org/w/index.php?title=Evaluation_of_binary_classifiers&oldid=1022265108\n",
        " </div></div>\n",
        "\n",
        "<div style=\"width:100%;\">\n",
        "<div style=\"width:5%;float:left;\">[e] </div>\n",
        "<div style=\"width:95%;float:left;align:justify;\">“Receiver operating characteristic,” Wikipedia. Oct. 09, 2021. Accessed: Oct. 13, 2021. [Online]. Available: https://en.wikipedia.org/w/index.php?title=Receiver_operating_characteristic&oldid=1049030439\n",
        " </div></div>\n",
        "\n",
        "<div style=\"width:100%;\">\n",
        "<div style=\"width:5%;float:left;\">[f] </div>\n",
        "<div style=\"width:95%;float:left;align:justify;\">J. Brownlee, “A Gentle Introduction to Bayes Theorem for Machine Learning,” Machine Learning Mastery, Oct. 03, 2019. https://machinelearningmastery.com/bayes-theorem-for-machine-learning/ (accessed Oct. 13, 2021).\n",
        " </div></div>\n",
        "\n",
        "<div style=\"width:100%;\">\n",
        "<div style=\"width:5%;float:left;\">[g] </div>\n",
        "<div style=\"width:95%;float:left;align:justify;\">J. L. Puga, M. Krzywinski, and N. Altman, “Bayes’ theorem,” Nature Methods, vol. 12, no. 4, pp. 277–278, Apr. 2015, doi: 10.1038/nmeth.3335.\n",
        " </div></div>\n",
        "\n",
        "\n",
        "<div style=\"width:100%;\">\n",
        "<div style=\"width:5%;float:left;\">[h] </div>\n",
        "<div style=\"width:95%;float:left;align:justify;\">N. Homma et al., “A Deep Learning Aided Drowning Diagnosis for Forensic Investigations using Post-Mortem Lung CT Images,” in 2020 42nd Annual International Conference of the IEEE Engineering in Medicine & Biology Society (EMBC), Montreal, QC, Canada, Jul. 2020, pp. 1262–1265. doi: 10.1109/EMBC44109.2020.9175731.\n",
        "\n",
        "\n",
        "<hr>"
      ]
    },
    {
      "cell_type": "markdown",
      "id": "fb43e145",
      "metadata": {
        "id": "fb43e145"
      },
      "source": [
        "<b>Basic Reading:</b>\n",
        "\n",
        "[1]  MACKAY, David J. C. Information theory, inference, and learning algorithms. Cambridge: Cambridge University Press, 2003. ISBN 978-0-521-64298-9..  <br>\n",
        "\n",
        "<b>Recommended Reading: </b>\n",
        "\n",
        "[2] COVER, T. M. and Joy A. THOMAS. Elements of information theory. 2nd ed. Hoboken: Wiley-Interscience, c2006. ISBN 978-0-471-24195-9..<br>\n",
        "[3] HOST, S. Information and Communication Theory. Hoboken, NJ: Wiley-IEEE Press, 2019. ISBN 978-1119433781..<br>\n",
        "[4] EL-GAMAL, A. and YOUNG-HAN, K. Network information theory. Primera. Cambridge: Cambridge University Press, 2011. ISBN 978-1-107-00873-1..\n",
        "\n",
        "<div style=\"width:100%;height:5px;background-color:#408d62;margin-top:15px\"></div>\n"
      ]
    },
    {
      "cell_type": "markdown",
      "id": "24acd46f",
      "metadata": {
        "id": "24acd46f"
      },
      "source": [
        "\n",
        "<br>\n",
        "\n",
        "<div style=\"width:100%;height:20px;background-color:#408d62\"></div>\n",
        "<br>\n",
        "\n",
        "<div style=\"width:100%;height:30px\">\n",
        "<div style=\"width:70%;height:30px;float:left;text-align:center;font-size:10px\">&#169;  Ivo Bukovsky, Dpt. of Comp. Sci., USB in CB, 2021 </div>\n",
        "<div style=\"width:30%;height:30px;float:left;\"><img src=\"img/JCU_DCS.png\" style=\"height:30px;\"/> </div>\n",
        "</div>\n",
        "\n",
        "\n"
      ]
    }
  ],
  "metadata": {
    "kernelspec": {
      "display_name": "Python 3 (ipykernel)",
      "language": "python",
      "name": "python3"
    },
    "language_info": {
      "codemirror_mode": {
        "name": "ipython",
        "version": 3
      },
      "file_extension": ".py",
      "mimetype": "text/x-python",
      "name": "python",
      "nbconvert_exporter": "python",
      "pygments_lexer": "ipython3",
      "version": "3.10.12"
    },
    "colab": {
      "provenance": []
    }
  },
  "nbformat": 4,
  "nbformat_minor": 5
}