{
  "cells": [
    {
      "cell_type": "markdown",
      "id": "016d2c3c",
      "metadata": {
        "id": "016d2c3c"
      },
      "source": [
        "<div style=\"width:100%;height:60px\">\n",
        "<div style=\"width:60%;height:50px;float:left;\"><h2> Information Theory  (UAI/500) </h2></div>\n",
        "<div style=\"width:40%;height:50px;float:left;\"><img src=\"img/JCU_DCS.png\" width=200px align=right/> </div>\n",
        "</div>\n",
        "<div style=\"width:100%;height:5px;background-color:#408d62\"></div>\n",
        "<h2>Lecture Notebook</h2>\n",
        "\n",
        "<div style=\"width:100%;height:5px;background-color:#408d62;margin-top:15px\"></div>\n",
        "\n",
        "<h4>Lecturers: Ivo Bukovský  & Ladislav Beránek</h4>\n",
        "\n",
        "<div style=\"width:100%;height:5px;background-color:#408d62;margin-top:15px\"></div>\n"
      ]
    },
    {
      "cell_type": "markdown",
      "id": "fb43e145",
      "metadata": {
        "id": "fb43e145"
      },
      "source": [
        "<b>Basic Reading:</b>\n",
        "\n",
        "[1]  MACKAY, David J. C. Information theory, inference, and learning algorithms. Cambridge: Cambridge University Press, 2003. ISBN 978-0-521-64298-9, https://www.inference.org.uk/itprnn/book.pdf, (Copyright Cambridge University Press 2003. On-screen viewing permitted. Printing not permitted. http://www.cambridge.org/0521642981)\n",
        "\n",
        "<b>Basic Viewing</b>\n",
        "\n",
        "[2] “Course on Information Theory, Pattern Recognition, and Neural Networks - VideoLectures - VideoLectures.NET.” http://videolectures.net/course_information_theory_pattern_recognition/.\n",
        "\n",
        "<b>Recommended Reading: </b>\n",
        "\n",
        "[3] COVER, T. M. and Joy A. THOMAS. Elements of information theory. 2nd ed. Hoboken: Wiley-Interscience, c2006. ISBN 978-0-471-24195-9..<br>\n",
        "[4] HOST, S. Information and Communication Theory. Hoboken, NJ: Wiley-IEEE Press, 2019. ISBN 978-1119433781..<br>\n",
        "[5] EL-GAMAL, A. and YOUNG-HAN, K. Network information theory. Primera. Cambridge: Cambridge University Press, 2011. ISBN 978-1-107-00873-1..\n",
        "\n",
        "<div style=\"width:100%;height:5px;background-color:#408d62;margin-top:15px\"></div>\n"
      ]
    },
    {
      "cell_type": "markdown",
      "id": "1e45988b",
      "metadata": {
        "id": "1e45988b"
      },
      "source": [
        "#### <h3>UAI/500 Grades and Assesment Conditions</h3>\n",
        "\n",
        "In the end of semester, there will be compulsory test, that you have to passs before exam.\n",
        "\n",
        "The points can be collected as follows:\n",
        "\n",
        "a) <b>max 40 points</b>  ... from optional assignments during semester that you upload to Moodle within 2 weeks from their introduction in the class, this is not compulsory, you do are not obliged to submit your asignments to get assesment. In Jupyter Notebooks, keep looking for tags <b style=\"color:blue;\">[## points]</b>, these are assignments that you can submit and get points for.\n",
        "\n",
        "b) <b>max 70 points</b>  ... for final exam itself\n",
        "\n",
        "<b>Alternatively/aditionally to a), b):</b>\n",
        "<br> If you prefere to work on a closely related project to the class subjects, it can add or replace points you. For really good projects (and the report), you might get up to 40 points instead of a) and b).\n",
        "<br>In advance, make sure, you let your teacher (Ivo or Ladislav) know about the topic of your project for this class and ideally get it confirmed by your teacher in advance - thank you!\n",
        "\n",
        "<b>In total, you may collect up to 110 points, and the course grading is to be as follows:</b>\n",
        "\n",
        "<b> Total points collected: <br>\n",
        "$  \\ 90 < ... $ A <br>\n",
        "$ 80\\le 90$ B <br>\n",
        "$ 70\\le 80$ C <br>\n",
        "$ 60\\le 70$ D <br>\n",
        "$ 50\\le 60 $ E <br>\n",
        "$ \\ \\ \\ \\  \\le 50  $ F <br>\n",
        ""
      ]
    },
    {
      "cell_type": "markdown",
      "id": "873ff004",
      "metadata": {
        "id": "873ff004"
      },
      "source": [
        "<div style=\"width:100%;height:5px;background-color:#408d62;margin-top:15px\"></div>\n",
        "\n",
        "<h2> Lecture 1</h2>\n",
        "<h2>Fundamentals for Information Theory (probability, information) </h2>\n",
        "<ul>\n",
        "<li>combinatorics, binomial coefficients</li>\n",
        "<li>probability, random variable, probability distributions (binomial distribution), probability distribution (discrete random variable) vs. probability density function (continuous random variable)</li>\n",
        "<ul>"
      ]
    },
    {
      "cell_type": "code",
      "execution_count": null,
      "id": "74105480",
      "metadata": {
        "id": "74105480"
      },
      "outputs": [],
      "source": []
    },
    {
      "cell_type": "code",
      "execution_count": null,
      "id": "ae27ff31",
      "metadata": {
        "id": "ae27ff31"
      },
      "outputs": [],
      "source": []
    },
    {
      "cell_type": "markdown",
      "id": "786d425b",
      "metadata": {
        "id": "786d425b"
      },
      "source": [
        "<h3> Minimum to see for this week </h3>\n",
        "\n",
        "<ul>\n",
        "    <li>from [1], read about: Example 1.1., Appendix starting on page 598, then\n",
        "        read about (A1,A2,A5,A6,A8,C1,C2) </li>\n",
        "    <li>recap this: “5.3: Mean and Standard Deviation of Binomial Distribution,” Statistics LibreTexts, May 05, 2019. <a href=\"https://stats.libretexts.org/Bookshelves/Introductory_Statistics/Book%3A_Statistics_Using_Technology_(Kozak)/05%3A_Discrete_Probability_Distributions/5.03%3A_Mean_and_Standard_Deviation_of_Binomial_Distribution\">https://stats.libretexts.org/Bookshelves/Introductory_Statistics/Book%3A_Statistics_Using_Technology_(Kozak)/05%3A_Discrete_Probability_Distributions/5.03%3A_Mean_and_Standard_Deviation_of_Binomial_Distribution\"</a></li>\n",
        "    <li> See et least about first 30 minutes of the legendary <a href=\"http://videolectures.net/course_information_theory_pattern_recognition/\">Lecture 1: Introduction to Information Theory</a></li>\n",
        "</ul>\n",
        "\n",
        "<div style=\"width:100%;height:3px;background-color:#408d62;margin-top:15px\"></div>\n"
      ]
    },
    {
      "cell_type": "code",
      "execution_count": null,
      "id": "2aa3acf1",
      "metadata": {
        "id": "2aa3acf1"
      },
      "outputs": [],
      "source": []
    },
    {
      "cell_type": "markdown",
      "id": "8c399ce3",
      "metadata": {
        "id": "8c399ce3"
      },
      "source": [
        "<div style=\"width:100%;height:5px;background-color:#408d62;margin-top:15px\"></div>\n",
        "\n",
        "\n",
        "## Combinatorics, Binomial Coefficients"
      ]
    },
    {
      "cell_type": "markdown",
      "id": "c2e1ab10",
      "metadata": {
        "id": "c2e1ab10"
      },
      "source": [
        "<h3> Permutations</h3>\n",
        "There is $n$ various elements in the set and their order matters.<br>\n",
        "$n$ ... the number of elements in the set.\n",
        "\n",
        "$\\Psi(n)$ ... the number of permutations (<b># of variants of arrangement</b>).\n",
        "\n",
        "$\\Psi(n)=n!$\n",
        "\n",
        "<div style=\"width:100%;height:2px;background-color:#408d62;margin-top:15px\"></div>\n",
        "<h4 style=\"color:green;\"> Solve, complete, and calculate the results bellow:</h4>\n",
        "\n",
        "- How many various 9-digit numbers we can generate from 9 digits 1,2,3,4,5,6,7,8,9, provided each digit appears only once?  \n",
        "$$ n =  9  $$\n",
        "$$\\Psi(n) =  9!=9.8.7...  $$\n",
        "<hr>\n",
        "-  How many valid 9-digit numbers we can generate from 9 digits 0,1,2,3,4,5,6,7,8, provided each digit appears only once?\n",
        "$$ ...  $$\n",
        "\n",
        "<hr>"
      ]
    },
    {
      "cell_type": "code",
      "execution_count": null,
      "id": "d299c701",
      "metadata": {
        "id": "d299c701",
        "outputId": "8ce0c003-cd08-4f9e-a879-7af57092da96"
      },
      "outputs": [
        {
          "name": "stdout",
          "output_type": "stream",
          "text": [
            "We can create 362880 different 9-digit numbers.\n"
          ]
        },
        {
          "data": {
            "text/plain": [
              "322560"
            ]
          },
          "execution_count": 3,
          "metadata": {},
          "output_type": "execute_result"
        }
      ],
      "source": [
        "from math import factorial as fa\n",
        "N=fa(9)\n",
        "print(\"We can create\",N,\"different 9-digit numbers.\")\n",
        "\n",
        "#task:\n",
        "8*fa(8)"
      ]
    },
    {
      "cell_type": "code",
      "execution_count": null,
      "id": "901afab3",
      "metadata": {
        "id": "901afab3"
      },
      "outputs": [],
      "source": []
    },
    {
      "cell_type": "markdown",
      "id": "6d06ad56",
      "metadata": {
        "id": "6d06ad56"
      },
      "source": [
        "<div style=\"width:100%;height:2px;background-color:#408d62;margin-top:15px\"></div><h3> Permutation with Repetition</h3>\n",
        "\n",
        "The set has total of $n$ elements, the order matters, and the elements may appear multiple-times (in $m$ groups of multiple appeareance).<br>\n",
        "$n$ ... the total length of the set,<br>\n",
        "$r_i$ ... the size of $i^{th}$ group, i.e., $i^{th}$ element is repeated $r_i$-times,<br>\n",
        "where $i=1,..., m$  .\n",
        "\n",
        "$$ \\Psi_{r_1,r_2,...,r_m}(n) =  \\dfrac{n!}{r_1!\\cdot r_2!\\ ... \\cdot r_m!}  = \\ \\dfrac{\\ \\ \\ \\ \\ \\ \\ \\ \\ \\ \\ \\ ...  \\ \\ \\ \\ \\ \\ \\ \\ \\ \\ \\ \\ \\ \\ \\ \\ }{\\ \\ \\ \\ \\ \\ \\ \\  \\ \\ \\ ...\\ \\ \\ \\ \\ \\ \\ \\ \\ \\ \\ \\ \\ \\ \\  } = \\ \\ ... \\ \\ \\  $$\n",
        "\n",
        "<div style=\"width:100%;height:2px;background-color:#408d62;margin-top:15px\"></div>\n",
        "<h4 style=\"color:green;\"> Solve, complete, and calculate the results bellow:</h4>\n",
        "\n",
        "- How many 9-digit numbers we can generate from digits 1,1,2,2,2,3,3,3,3?\n",
        "- How many 9-digit numbers we can generate from digits 1,1,5,5,5,0,0,0,0?  <b style=\"color:blue;\">[0.2 points]</b>\n",
        "$$ ...  $$\n",
        "$$n=9$$  \n",
        "$$r_1=2, r_2=3, r_3= 4,$$\n",
        "\n",
        "\n",
        "\n",
        "<hr>"
      ]
    },
    {
      "cell_type": "code",
      "execution_count": 1,
      "id": "ccf8f061",
      "metadata": {
        "colab": {
          "base_uri": "https://localhost:8080/"
        },
        "id": "ccf8f061",
        "outputId": "34a4de7e-5eb2-4b64-e8f5-da574f826f87"
      },
      "outputs": [
        {
          "output_type": "stream",
          "name": "stdout",
          "text": [
            "We can generate 1260.0 different 9 digit numbers from digits 1,1,2,2,2,3,3,3,3\n",
            "We can generate 700.0 different 9 digit numbers from digits 1,1,5,5,5,0,0,0,0\n"
          ]
        }
      ],
      "source": [
        "from math import factorial as fa\n",
        "# 1)How many 9-digit numbers we can generate from digits 1,1,2,2,2,3,3,3,3?\n",
        "n = 9\n",
        "r1 = 2\n",
        "r2 = 3\n",
        "r3 = 4\n",
        "N = fa(n)/(fa(r1) * fa(r2) * fa(r3))\n",
        "print(\"We can generate\",N,\"different 9 digit numbers from digits 1,1,2,2,2,3,3,3,3\")\n",
        "\n",
        "# 2) How many 9-digit numbers we can generate from digits 1,1,5,5,5,0,0,0,0?\n",
        "# Total number of permutations is 1260 for the above given digits. Subtracting the invalid numbers /\n",
        "#  which start with zero as 1st number.\n",
        "n = 8\n",
        "r1 = 2\n",
        "r2 = 3\n",
        "r3 = 3\n",
        "IN = fa(n)/(fa(r1) * fa(r2) * fa(r3))\n",
        "N1 = N - IN\n",
        "print(\"We can generate\",N1,\"different 9 digit numbers from digits 1,1,5,5,5,0,0,0,0\")"
      ]
    },
    {
      "cell_type": "markdown",
      "id": "073277c5",
      "metadata": {
        "id": "073277c5"
      },
      "source": [
        "<div style=\"width:100%;height:2px;background-color:#408d62;margin-top:15px\"></div>\n",
        "<h3> Variations </h3>\n",
        "i.e., variations without repetition.\n",
        "\n",
        "There is $n$ of various elements.\n",
        "We make selections of $r$ out of $n$  elements, and selections can vary only in ordering.\n",
        "\n",
        "Then, the number of possible selections is\n",
        "\n",
        "$V_r(n)=\\dfrac{n!}{(n-r)!}=\\left(\n",
        "\\begin{matrix}\n",
        "n \\\\\n",
        "r\n",
        "\\end{matrix}\n",
        "\\right)\\cdot r! \\ \\ $ .\n",
        "\n",
        "<div style=\"width:100%;height:2px;background-color:#408d62;margin-top:15px\"></div>\n",
        "<h4 style=\"color:green;\"> Solve, complete, and calculate the results bellow:</h4>\n",
        "\n",
        "- How many valid 3-digit numbers, where each digit is unique, can be generated from digits 1,2,3,4,5,6,7,8,9?\n",
        "\n",
        "- How many valid 3-digit numbers, where each digit is unique, can be generated from digits 0,1,2,3,4,5,6,7,8? <b style=\"color:blue;\">[0.2 Points]</b>\n",
        "$$ ...  $$\n",
        "\n",
        "\n",
        "$n=\\ \\ ... \\ \\ ?, \\ \\ r = \\ \\ ... \\ \\ ? $"
      ]
    },
    {
      "cell_type": "code",
      "execution_count": 2,
      "id": "87e5ed93",
      "metadata": {
        "colab": {
          "base_uri": "https://localhost:8080/"
        },
        "id": "87e5ed93",
        "outputId": "13260bac-1c4e-40f5-800a-f926cd2310b6"
      },
      "outputs": [
        {
          "output_type": "stream",
          "name": "stdout",
          "text": [
            "We can generate 504.0 valid 3-digit numbers from digits 1,2,3,4,5,6,7,8,9\n",
            "We can generate 448 different 3 digit numbers from digits 0,1,2,3,4,5,6,7,8\n"
          ]
        }
      ],
      "source": [
        "# How many valid 3-digit numbers, where each digit is unique, can be generated from digits 1,2,3,4,5,6,7,8,9?\n",
        "n = 9\n",
        "r = 3\n",
        "N = fa(n)/(fa(n - r))\n",
        "print(\"We can generate\", N, \"valid 3-digit numbers from digits 1,2,3,4,5,6,7,8,9\")\n",
        "\n",
        "# How many valid 3-digit numbers, where each digit is unique, can be generated from digits 0,1,2,3,4,5,6,7,8?\n",
        "# 1st digit cannot be zero, therefore we have 8 digits to choose from\n",
        "# 2nd digit can be zero, therefore we have 8 digits to choose from\n",
        "# 3rd digit can be zero, therefore we have 7 digits to choose from\n",
        "n1 = 8\n",
        "n2 = 8\n",
        "n3 = 7\n",
        "N = n1*n2*n3\n",
        "print(\"We can generate\",N, \"different 3 digit numbers from digits 0,1,2,3,4,5,6,7,8\")"
      ]
    },
    {
      "cell_type": "markdown",
      "id": "8ef8cd15",
      "metadata": {
        "id": "8ef8cd15"
      },
      "source": [
        "<div style=\"width:100%;height:2px;background-color:#408d62;margin-top:15px\"></div>\n",
        "<h3> Variations with Repetition </h3>\n",
        "\n",
        "There is $n$ of various elements.\n",
        "\n",
        "We make selections of $r$ out of $n$  various elements, selections can vary only in ordering, and the elements in selection may repeat.\n",
        "\n",
        "Then, the number of possible selections is\n",
        "\n",
        "$V_r(n)=n^r$.\n",
        "\n",
        "<div style=\"width:100%;height:2px;background-color:#408d62;margin-top:15px\"></div>\n",
        "<h4 style=\"color:green;\"> Solve, complete, and calculate the results bellow:</h4>\n",
        "\n",
        "- How many valid 3-digit numbers can be generated from digits 1,2,3,4,5,6,7,8,9?\n",
        "\n",
        "- How many valid 3-digit numbers can be generated from digits 0,1,2,3,4,5,6,7,8?<b style=\"color:blue;\">[0.2 Points]</b>\n",
        "\n",
        "\n",
        "$n=\\ \\ ... \\ \\ ?, \\ \\ r = \\ \\ ... \\ \\ ? $"
      ]
    },
    {
      "cell_type": "code",
      "execution_count": 3,
      "id": "10e0a5e1",
      "metadata": {
        "colab": {
          "base_uri": "https://localhost:8080/"
        },
        "id": "10e0a5e1",
        "outputId": "6483cf00-8f50-41ae-872b-57218b592e1e"
      },
      "outputs": [
        {
          "output_type": "stream",
          "name": "stdout",
          "text": [
            "We can generate 729 different 3 digit numbers from digits 1,2,3,4,5,6,7,8,9\n",
            "We can generate 648 different 3 digit numbers from digits 0,1,2,3,4,5,6,7,8\n"
          ]
        }
      ],
      "source": [
        "# How many valid 3-digit numbers can be generated from digits 1,2,3,4,5,6,7,8,9?\n",
        "n = 9\n",
        "r = 3\n",
        "N = n**r\n",
        "print(\"We can generate\",N, \"different 3 digit numbers from digits 1,2,3,4,5,6,7,8,9\")\n",
        "\n",
        "\"\"\" How many valid 3-digit numbers can be generated from digits 0,1,2,3,4,5,6,7,8?\n",
        "1st digit cannot be zero, therefore we have 8 digits to choose from\n",
        "2nd digit can be zero, therefore we have 9 digits to choose from\n",
        "3rd digit can be zero, therefore we have 9 digits to choose from \"\"\"\n",
        "n1 = 8\n",
        "n2 = 9\n",
        "n3 =9\n",
        "N = n1*n2*n3\n",
        "print(\"We can generate\",N, \"different 3 digit numbers from digits 0,1,2,3,4,5,6,7,8\")"
      ]
    },
    {
      "cell_type": "markdown",
      "id": "8d205a76",
      "metadata": {
        "id": "8d205a76"
      },
      "source": [
        "<div style=\"width:100%;height:2px;background-color:#408d62;margin-top:15px\"></div>\n",
        "\n",
        "<h3> Combinations </h3>\n",
        "i.e., combinations without repetitions.\n",
        "\n",
        "There is $n$ of various elements, we make selections of $r$ out of all $n$ elements, i.e. $n$ choose $r$, ordering does not matter, and elements do not repeat.\n",
        "\n",
        "Then, the number of such possible selections is\n",
        "\n",
        "$\n",
        "C_r(n)= \\left(\n",
        "\\begin{matrix}\n",
        "n \\\\\n",
        "r\n",
        "\\end{matrix}\n",
        "\\right) = \\dfrac{n!}{r! \\cdot (n-r)!}.\n",
        "$\n",
        "\n",
        "\n",
        "<div style=\"width:100%;height:2px;background-color:#408d62;margin-top:15px\"></div>\n",
        "<h4 style=\"color:green;\"> Solve, complete, and calculate the results bellow:</h4>\n",
        "\n",
        "In a lotterry bag, there are numbers 0,1,2,...,9. The ticket is for guessing four numbers, and the first price is if you correctly guess all four numbers.\n",
        "\n",
        "- What is the probability that you win the first price?</b>\n",
        "\n",
        "- If one ticket costs 1,-Eur, :\n",
        "\n",
        " - What is your chance to win 1st price for 20,-Eur? <b style=\"color:blue;\">[0.2 Points]</b>\n",
        "\n",
        " - How much money you have to spend to have 10% chance to win the 1st price? <b style=\"color:blue;\">[0.2 Points]</b>\n",
        "\n",
        "\n",
        "$r= \\ \\ ... \\ \\ , \\ \\ n = \\ \\ 10 \\ \\ ?  $\n"
      ]
    },
    {
      "cell_type": "code",
      "execution_count": 4,
      "id": "3b3c91ed",
      "metadata": {
        "colab": {
          "base_uri": "https://localhost:8080/"
        },
        "id": "3b3c91ed",
        "outputId": "d72db147-6f5b-4db6-c331-07d4853d4cdd"
      },
      "outputs": [
        {
          "output_type": "stream",
          "name": "stdout",
          "text": [
            "Total number of Tickets is 210.0\n",
            "Probability of winning first prize is: 0.004761904761904762\n",
            "Probability of winning 1st prize for 20 euros is: 9.523809523809524 Percent\n",
            "Money spent to have 10% chance to win the 1st price: 21.0 Euros\n"
          ]
        }
      ],
      "source": [
        "n = 10 #lottery bag = 0 to 9\n",
        "r = 4 #ticket = 4 numbers\n",
        "# Total number of combinations is\n",
        "N = fa(n)/(fa(r)*fa(n-r))\n",
        "print(\"Total number of Tickets is\",N)\n",
        "print(\"Probability of winning first prize is:\",(1/N))\n",
        "print(\"Probability of winning 1st prize for 20 euros is:\",(20/N)*100,\"Percent\")\n",
        "print(\"Money spent to have 10% chance to win the 1st price:\",N*(10/100),\"Euros\")"
      ]
    },
    {
      "cell_type": "markdown",
      "id": "8453929e",
      "metadata": {
        "id": "8453929e"
      },
      "source": [
        "<div style=\"width:100%;height:2px;background-color:#408d62;margin-top:15px\"></div>\n",
        "<h3> Combinations with Repetition </h3>\n",
        "\n",
        "There is $n$ of various elements, we make selections of $r$ out of all $n$ elements, ordering does not matter, and elements may repeat.\n",
        "\n",
        "Then, the number of such possible selections is\n",
        "\n",
        "$\n",
        "\\bar{C}_r(n) =\n",
        "\\left(\n",
        "\\begin{matrix}\n",
        "n+r-1 \\\\\n",
        "r\n",
        "\\end{matrix}\n",
        "\\right)\n",
        "$\n",
        "\n",
        "<div style=\"width:100%;height:2px;background-color:#408d62;margin-top:15px\"></div>\n",
        "<h4 style=\"color:green;\"> Solve, complete, and calculate the results bellow:</h4>\n",
        "\n",
        "In the lottery bag, there are numbers 0,1,2,...,9 and the number is returned to the bag after each drawing.\n",
        "The ticket is for guessing four numbers, and the first price is if you correctly guess all four numbers.\n",
        "\n",
        "- What is the probability that you win the first price?\n",
        "\n",
        "- If one ticket costs 1,-Eur:\n",
        "\n",
        " - What is your chance to win 1st price for 20,-Eur?<b style=\"color:blue;\">[0.2 Points]</b>\n",
        "\n",
        " - How much money you have to spend to have 10% chance to win the 1st price?<b style=\"color:blue;\">[0.2 Points]</b>\n",
        "\n",
        "\n",
        "$r= \\ \\ ... \\ \\ , \\ \\ n = \\ \\ ... \\ \\ ?  $\n"
      ]
    },
    {
      "cell_type": "code",
      "execution_count": 5,
      "id": "127499f8",
      "metadata": {
        "colab": {
          "base_uri": "https://localhost:8080/"
        },
        "id": "127499f8",
        "outputId": "c66a5a17-d990-4301-97f7-650e8158ab06"
      },
      "outputs": [
        {
          "output_type": "stream",
          "name": "stdout",
          "text": [
            "Total number of Tickets is 715.0\n",
            "Probability of winning first prize is: 0.0013986013986013986\n",
            "Probability of winning 1st prize for 20 euros is: 2.797202797202797 Percent\n",
            "Money spent to have 10% chance to win the 1st price: 71.5 Euros\n"
          ]
        }
      ],
      "source": [
        "n = 10\n",
        "r = 4\n",
        "N = (fa(n+r-1)/(fa(r)*fa(n-1)))\n",
        "print(\"Total number of Tickets is\",N)\n",
        "print(\"Probability of winning first prize is:\",(1/N))\n",
        "print(\"Probability of winning 1st prize for 20 euros is:\",(20/N)*100,\"Percent\")\n",
        "print(\"Money spent to have 10% chance to win the 1st price:\",N*(10/100),\"Euros\")"
      ]
    },
    {
      "cell_type": "markdown",
      "id": "5ceb956f",
      "metadata": {
        "id": "5ceb956f"
      },
      "source": [
        "<div style=\"width:100%;height:5px;background-color:#408d62;margin-top:15px\"></div>\n",
        "\n",
        "<h3>Binomial Coefficients</h3>\n",
        "\n",
        "$(a+b)^k=\\sum\\limits_{i=0}^k \\left(\n",
        "\\begin{matrix}\n",
        "k \\\\\n",
        "i\n",
        "\\end{matrix}\n",
        "\\right)\\cdot a^{k-i} \\cdot b^i \\ \\ $  ... e.g.. for binomial distribution (of probability)\n",
        "\n",
        "\n",
        "$(a-b)^k=\\sum\\limits_{i=0}^k (-1)^i \\left(\n",
        "\\begin{matrix}\n",
        "k \\\\\n",
        "i\n",
        "\\end{matrix}\n",
        "\\right)\\cdot a^{k-i} \\cdot b^i \\ \\ $ ... e.g. for k-th central (mean) moments of a random variable via its moments, but do not worry too much about this formula for now.\n",
        "<br><small> Recall\n",
        "$ \\ \\ \\ \\ \\ \\left( \\begin{matrix} k \\\\ 0 \\end{matrix}\\right)=\\left( \\begin{matrix} k \\\\ k \\end{matrix}\\right)=1 $ .</small>\n"
      ]
    },
    {
      "cell_type": "markdown",
      "id": "6b031f60",
      "metadata": {
        "id": "6b031f60"
      },
      "source": [
        "<div style=\"width:100%;height:5px;background-color:#408d62;margin-top:15px\"></div>\n",
        "\n",
        "<h2>Binomial Distribution</h2>\n",
        "\n",
        "<b> probability, probability of independent events,  random variable </b>\n",
        "\n",
        "### Example L-1\n",
        "<b>Tossing a coin </b>\n",
        "<ol>\n",
        "    <li> head or tail only:<br>\n",
        "       - experimentaly estimate probability of head, tale<br>\n",
        "       - calculate (and validate) probability of 2xhead in two tossings, 3xtail in three tossings</li>\n",
        "       - probabality<br>\n",
        "       - out of 10  consequent independent tossings with a single coin, what is probability that you get head only at first toss?<br>\n",
        "       - when tossing 10 coins at once, what is probability that only one particular coin gets tail?<br>\n",
        "       - when tossing 10 coins, what is probability that you get 2 heads?<br>\n",
        "    <li> head or tail or edge (btw here we touch <b>probability</b> vs. <b>possibility</b>)</li>\n",
        "     <li style=\"color:red;\"> example of random variable:  $x$ ... how many times you get tail in $N$ independent tossings</li>\n",
        "</ol>\n"
      ]
    },
    {
      "cell_type": "code",
      "execution_count": null,
      "id": "72a370e8",
      "metadata": {
        "id": "72a370e8"
      },
      "outputs": [],
      "source": []
    },
    {
      "cell_type": "markdown",
      "id": "e4573cb4",
      "metadata": {
        "id": "e4573cb4"
      },
      "source": [
        "<div style=\"width:100%;height:1px;background-color:#408d62;margin-top:15px\"></div>\n",
        "\n",
        "\n",
        "\n",
        "### Example L-2\n",
        "\n",
        "<div style=\"width:100%;height:20px\">\n",
        "<div style=\"width:20%;height:10px;float:left;padding-top:10px;\"><b>Throwing a dice </b></div>\n",
        "<div style=\"width:80%;height:10px;float:left;\"><img src=\"img/dice.png\" width=40px /> </div>\n",
        "</div>\n",
        "\n",
        "\n",
        "<ol>\n",
        "    <li> possible outomes are exclusively number of spots 1,2,3,4,5, or 6:<br>\n",
        "        - experimentally estimate probability that you get number 6 in a single throw<br>\n",
        "       - calculate (and validate) probability of two-times number 6 in two tossings, three-times 6 in three throws<br>\n",
        "       - out of 10  consequent independent tossings with a single dice, what is probability that you get 6 only at first throw?<br>\n",
        "       - when throwing 10 dices at once, what is probability that only one particular coin gets 6?<br>\n",
        "       - when throwing 10 coins, what is probability that you gets 6 at least once?<br>\n",
        "    <li style=\"color:red;\"> example of random variable:  $x$ ... how many times you get number 6 in $N$ independent throws</li>\n",
        "</ol>\n",
        "\n"
      ]
    },
    {
      "cell_type": "code",
      "execution_count": null,
      "id": "2d1881ba",
      "metadata": {
        "id": "2d1881ba"
      },
      "outputs": [],
      "source": []
    },
    {
      "cell_type": "markdown",
      "id": "17837e6b",
      "metadata": {
        "id": "17837e6b"
      },
      "source": [
        "<div style=\"width:100%;height:1px;background-color:#408d62;margin-top:15px\"></div>\n",
        "\n",
        "\n",
        "### Example L-3\n",
        "<small>(The following example is a very simple one just to introduce the notion of the binomial distribution.\n",
        "The field that seriously deals with system reliability is callled <b>Reliability Engineering</b>, and the strong buzzword here is the <b>Predictive Maintanance</b>, of course.) </small>\n",
        "\n",
        "<b>There is running $N$ same independent computers. Operating system on all computers is updated at once for all computers. During previous updates, it was observed that in average about $n$ computers out of $N$ had problems that consequently required technical support.</b>\n",
        "\n",
        "<b>Questions:</b>\n",
        "\n",
        "$ p = ... $ ...choose $p$ as the probability that a computer will need maintenance after its update, $p\\in\\langle0,1\\rangle \\ , p<<1$<br>\n",
        "$ N = ... $ ...choose the number of all computers.\n",
        "\n",
        "\n",
        "<ol>\n",
        "<li>Compared to the coin tossing where also two outcomes can happen(head or tail), what is the main difference from the above computer failure example in terms of probability? </li>\n",
        "<li>What is the probability that no computer will need technical support after update?  <b style=\"color:blue;\">[0.1 Points]</b></li>  \n",
        "<li>What is the probability that all computers will need technical support after update?  <b style=\"color:blue;\">[0.1 Points]</b></li>  \n",
        "<li>What is the probability that only one particular computer will need technical support after update?  <b style=\"color:blue;\">[0.1 Points]</b></li>  \n",
        "<li>What is the probability that one computer (anyone out of all) will need technical support after update? <b style=\"color:blue;\">[0.1 Points]</b></li>  \n",
        "<li>What is the probability that any two computers will need technical support after update? <b style=\"color:blue;\">[0.1 Points]</b></li>  \n",
        "<li>What is the probability that any three computers will need technical support after update? <b style=\"color:blue;\">[0.1 Points]</b></li>  \n",
        "<li> What is variance and standard deviation of this probability distribution? i.e. how many computers is estimated to need the support plus minus? mean &#177; variance <b style=\"color:blue;\">[0.2 Points]</b></li> </li>\n",
        "<li>What is the probability that a particular number of computers will need technical support after the update? Draw the graphs of probability distribution for your chosen value of $p<<1$  and and for $p=0.5$. <b style=\"color:blue;\">[1.0 Point]</b></li>  \n",
        "<li>For the achieved probability distributions in previous task 9., calculate numericaly the mean and variance, and compare the values with the values directly calculated by formulas for mean and variance of binomial distribution.<b style=\"color:blue;\">[1.0 Point]</b></li>\n",
        "</ol>\n",
        "\n",
        "<b>Solutions:</b>\n",
        "\n",
        "<p style=\"color:red\">Let's define random variable $x$ as the number of failed computers after the update,<br>\n",
        "where $x\\in\\langle 0,N\\rangle\\in\\mathbb{W}$, i.e., $x=0,1,2,3,...,N$ [failed computers]</p>\n",
        "<br>\n",
        "\n",
        "...\n"
      ]
    },
    {
      "cell_type": "code",
      "source": [
        "\"\"\" 2) What is the probability that no computer will need technical support after update?\n",
        "    => (1-p)**N\n",
        "    3) What is the probability that all computers will need technical support after update?\n",
        "    => p**N\n",
        "    4) What is the probability that only one particular computer will need technical support after update?\n",
        "    => p*(1-p)**(N-1)\n",
        "    5) What is the probability that one computer (anyone out of all) will need technical support after update?\n",
        "    => Np(1-p)**(N-1)\n",
        "    6) What is the probability that any two computers will need technical support after update?\n",
        "    => (N(N-1)/2)p**2(1-p)**(N-2)\n",
        "    7) What is the probability that any three computers will need technical support after update?\n",
        "    => (N(N-1)(N-2)/6)p**3(1-p)**(N-3)\n",
        "    8) What is variance and standard deviation of this probability distribution?\n",
        "    i.e. how many computers is estimated to need the support ?\n",
        "    => mean = N*p, variance = N*p*(1-p), standard deviation = sqrt(N*p*(1-p)), computers estimated to need support is N*p +- sqrt(N*p*(1-p))\"\"\"\n",
        "\n",
        "import math\n",
        "p = 0.1\n",
        "N = 20\n",
        "\n",
        "print(\"Probability that no computer will need technical support after update is :\",(1-p)**N)\n",
        "print(\"probability that all computers will need technical support after update is :\",p**N)\n",
        "print(\"probability that only one particular computer will need technical support after update is:\",p*(1-p)**(N-1))\n",
        "print(\"probability that one computer (anyone out of all) will need technical support after update is:\",N*p*(1-p)**(N-1))\n",
        "print(\"probability that any two computers will need technical support after update is:\",(N*(N-1)/2)*p**2*(1-p)**(N-2))\n",
        "print(\"probability that any three computers will need technical support after update is:\",(((N*(N-1)*(N-2))/6)*(p**3)*((1-p)**(N-3))))\n",
        "print(\"mean:\",N*p)\n",
        "print(\"variance:\",N*p*(1-p))\n",
        "print(\"standard deviation:\",math.sqrt(N*p*(1-p)))\n",
        "print(\"Computers estimated to need support is:\",N*p,\"+-\",math.sqrt(N*p*(1-p)))"
      ],
      "metadata": {
        "colab": {
          "base_uri": "https://localhost:8080/"
        },
        "id": "gVAJni7JnH-l",
        "outputId": "69ceec24-1b74-4030-a281-4ea0b2f03f98"
      },
      "id": "gVAJni7JnH-l",
      "execution_count": 24,
      "outputs": [
        {
          "output_type": "stream",
          "name": "stdout",
          "text": [
            "Probability that no computer will need technical support after update is : 0.12157665459056935\n",
            "probability that all computers will need technical support after update is : 1.0000000000000011e-20\n",
            "probability that only one particular computer will need technical support after update is: 0.013508517176729929\n",
            "probability that one computer (anyone out of all) will need technical support after update is: 0.27017034353459857\n",
            "probability that any two computers will need technical support after update is: 0.2851798070642985\n",
            "probability that any three computers will need technical support after update is: 0.19011987137619904\n",
            "mean: 2.0\n",
            "variance: 1.8\n",
            "standard deviation: 1.3416407864998738\n",
            "Computers estimated to need support is: 2.0 +- 1.3416407864998738\n"
          ]
        }
      ]
    },
    {
      "cell_type": "code",
      "source": [
        "\"\"\"9)What is the probability that a particular number of computers will need technical support after the update?\n",
        "   Draw the graphs of probability distribution for your chosen value of  p<<1  and and for  p=0.5\n",
        "  => probability that a particular number of computers will need technical support after the update is given by binomial distribution  \"\"\"\n",
        "\n",
        "import numpy as np\n",
        "import matplotlib.pyplot as plt\n",
        "from scipy.stats import binom\n",
        "\n",
        "# Parameters\n",
        "N = 20  # Total number of computers\n",
        "k_values = np.arange(0, N + 1)  # Number of computers needing support (0 to N)\n",
        "\n",
        "# Small probability (p << 1)\n",
        "p_small = 0.1\n",
        "probabilities_small = binom.pmf(k_values, N, p_small)\n",
        "\n",
        "# Case 2: Moderate probability (p = 0.5)\n",
        "p_mod = 0.5\n",
        "probabilities_mod = binom.pmf(k_values, N, p_mod)\n",
        "\n",
        "# Plotting the probability distributions\n",
        "plt.figure(figsize=(12, 6))\n",
        "\n",
        "# Plot for small p\n",
        "plt.subplot(1, 2, 1)\n",
        "plt.bar(k_values, probabilities_small, color='skyblue', alpha=0.7)\n",
        "plt.title(f'Binomial Distribution (p = {p_small})')\n",
        "plt.xlabel('Number of computers needing technical support')\n",
        "plt.ylabel('Probability')\n",
        "plt.grid(True)\n",
        "\n",
        "# Plot for moderate p\n",
        "plt.subplot(1, 2, 2)\n",
        "plt.bar(k_values, probabilities_mod, color='lightcoral', alpha=0.7)\n",
        "plt.title(f'Binomial Distribution (p = {p_mod})')\n",
        "plt.xlabel('Number of computers needing technical support')\n",
        "plt.ylabel('Probability')\n",
        "plt.grid(True)\n",
        "\n",
        "plt.show()\n"
      ],
      "metadata": {
        "colab": {
          "base_uri": "https://localhost:8080/",
          "height": 564
        },
        "id": "jhXSyDdezjNa",
        "outputId": "0fb87d6a-956b-4227-c6d2-e60df1abb196"
      },
      "id": "jhXSyDdezjNa",
      "execution_count": 2,
      "outputs": [
        {
          "output_type": "display_data",
          "data": {
            "text/plain": [
              "<Figure size 1200x600 with 2 Axes>"
            ],
            "image/png": "[encoded data removed]"
          },
          "metadata": {}
        }
      ]
    },
    {
      "cell_type": "code",
      "source": [
        "\"\"\" 10) For the achieved probability distributions in previous task 9.,\n",
        "     calculate numericaly the mean and variance, and compare the values with the values directly calculated by formulas for mean and variance of binomial distribution.\n",
        "\"\"\"\n",
        "\n",
        "# For p = 0.1\n",
        "binom_pmf = binom.pmf(k_values, N, p_small)\n",
        "print(f\"k: {k_values} n: {N} p: {p_small}\")\n",
        "# Step 2: Calculate the mean (E(X))\n",
        "mean_numerical = np.sum(k_values * binom_pmf)\n",
        "print(f\"Numerical Mean: \",round(mean_numerical,2))\n",
        "\n",
        "# Step 3: Calculate the variance (E((X - mean)^2))\n",
        "variance_numerical = np.sum((k_values - mean_numerical)**2 * binom_pmf)\n",
        "print(f\"Numerical variance: \",round(variance_numerical,2))\n",
        "\n",
        "mean = N*p_small\n",
        "variance = N*p_small*(1-p_small)\n",
        "\n",
        "print(f\"Formula Mean: \",round(mean,2))\n",
        "print(f\"Formula variance: \",round(variance,2))\n",
        "\n",
        "# For p = 0.5\n",
        "binom_pmf = binom.pmf(k_values, N, p_mod)\n",
        "print(f\"k: {k_values} n: {N} p: {p_mod}\")\n",
        "# Step 2: Calculate the mean (E(X))\n",
        "mean_numerical = np.sum(k_values * binom_pmf)\n",
        "print(f\"Numerical Mean: \",round(mean_numerical,2))\n",
        "\n",
        "# Step 3: Calculate the variance (E((X - mean)^2))\n",
        "variance_numerical = np.sum((k_values - mean_numerical)**2 * binom_pmf)\n",
        "print(f\"Numerical variance: \",round(variance_numerical,2))\n",
        "\n",
        "mean = N*p_mod\n",
        "variance = N*p_mod*(1-p_mod)\n",
        "\n",
        "print(f\"Formula Mean: \",round(mean,2))\n",
        "print(f\"Formula variance: \",round(variance,2))"
      ],
      "metadata": {
        "colab": {
          "base_uri": "https://localhost:8080/"
        },
        "id": "YO2Ehfb18AW2",
        "outputId": "04b0c59f-76d9-42c4-866e-db94d4fb7e54"
      },
      "id": "YO2Ehfb18AW2",
      "execution_count": 8,
      "outputs": [
        {
          "output_type": "stream",
          "name": "stdout",
          "text": [
            "k: [ 0  1  2  3  4  5  6  7  8  9 10 11 12 13 14 15 16 17 18 19 20] n: 20 p: 0.1\n",
            "Numerical Mean:  2.0\n",
            "Numerical variance:  1.8\n",
            "Formula Mean:  2.0\n",
            "Formula variance:  1.8\n",
            "k: [ 0  1  2  3  4  5  6  7  8  9 10 11 12 13 14 15 16 17 18 19 20] n: 20 p: 0.5\n",
            "Numerical Mean:  10.0\n",
            "Numerical variance:  5.0\n",
            "Formula Mean:  10.0\n",
            "Formula variance:  5.0\n"
          ]
        }
      ]
    },
    {
      "cell_type": "markdown",
      "id": "ab45aa83",
      "metadata": {
        "id": "ab45aa83"
      },
      "source": [
        "<div style=\"widht:100%;height:5px;background-color:#408d62\"></div>\n",
        "<h2>Points and Assigments (week 1):</h2>\n",
        "\n",
        "If you wish to submit your solutions to collect your optional points, solve the problems (e.g. in this notebook directly ) and upload to Moodle (Notebook + its pdf)  within 2 weeks - upload your solution into Moodle by Sunday midnight that is 2nd week since the actual week of the lecture.\n",
        "\n",
        "In this notebook, you may achieve maximum of 3 points."
      ]
    },
    {
      "cell_type": "markdown",
      "id": "24acd46f",
      "metadata": {
        "id": "24acd46f"
      },
      "source": [
        "\n",
        "<br>\n",
        "\n",
        "<div style=\"width:100%;height:20px;background-color:#408d62\"></div>\n",
        "<br>\n",
        "\n",
        "<div style=\"width:100%;height:30px\">\n",
        "<div style=\"width:70%;height:30px;float:left;text-align:center;font-size:10px\">&#169;  Ivo Bukovsky, Dpt. of Comp. Sci., USB in CB, 2024 </div>\n",
        "<div style=\"width:30%;height:30px;float:left;\"><img src=\"img/JCU_DCS.png\" style=\"height:30px;\"/> </div>\n",
        "</div>\n",
        "\n",
        "\n"
      ]
    },
    {
      "cell_type": "code",
      "execution_count": null,
      "id": "502c8a35",
      "metadata": {
        "id": "502c8a35"
      },
      "outputs": [],
      "source": []
    }
  ],
  "metadata": {
    "kernelspec": {
      "display_name": "Python 3 (ipykernel)",
      "language": "python",
      "name": "python3"
    },
    "language_info": {
      "codemirror_mode": {
        "name": "ipython",
        "version": 3
      },
      "file_extension": ".py",
      "mimetype": "text/x-python",
      "name": "python",
      "nbconvert_exporter": "python",
      "pygments_lexer": "ipython3",
      "version": "3.10.12"
    },
    "colab": {
      "provenance": []
    }
  },
  "nbformat": 4,
  "nbformat_minor": 5
}